{
 "cells": [
  {
   "cell_type": "markdown",
   "id": "cd9b274a-f751-4833-84b8-81f80c0a2448",
   "metadata": {},
   "source": [
    "## Student MongoDB Project: E-Commerce Data Analysis\n",
    "This project is designed to demonstrate your understanding of MongoDB concepts, including CRUD operations, aggregation, indexing, $lookup, schema design, and more. You will work with a sample dataset to model, query, and analyze data. The project mirrors real-world scenarios to help you consolidate your knowledge.\n",
    "\n",
    "## Project Overview\n",
    "You are tasked with building a MongoDB database for an e-commerce platform and using it to answer analytical questions. The project involves:\n",
    "\n",
    "1. Creating collections and designing a schema.\n",
    "2. Importing sample data.\n",
    "3. Applying advanced queries and aggregation pipelines.\n",
    "4. Answering key analytical questions.\n",
    "5. Documenting and presenting your work."
   ]
  },
  {
   "cell_type": "markdown",
   "id": "3d5ca04d-f4d3-40c5-b4e4-cb295d1193de",
   "metadata": {},
   "source": [
    "1. **Set Up the Environment**\n",
    "    - Install MongoDB locally or use a MongoDB cloud service (e.g., MongoDB Atlas).\\\n",
    "    - Install pymongo in your Python environment:\\\n",
    "            - pip install pymongo\n",
    "    \n",
    "    - If using MongoDB Atlas, configure a connection to your cloud cluster.\\\n"
   ]
  },
  {
   "cell_type": "markdown",
   "id": "9493052f-3d5f-4430-8847-7d8f0da1adc3",
   "metadata": {},
   "source": [
    "# Task 1: \n",
    "## Database Setup and Data Insertion\n",
    "- Create the above collections in MongoDB.\n",
    "- Insert at least 20 documents into each collection using pymongo."
   ]
  },
  {
   "cell_type": "code",
   "execution_count": 1,
   "id": "fc638adc-9622-4765-abf9-ae8b0df35072",
   "metadata": {},
   "outputs": [],
   "source": [
    "import pprint\n",
    "from datetime import datetime, timedelta\n",
    "from pymongo import MongoClient\n",
    "from pymongo.errors import OperationFailure"
   ]
  },
  {
   "cell_type": "code",
   "execution_count": 3,
   "id": "8b208463-5cbf-4698-9a02-2516fa863417",
   "metadata": {},
   "outputs": [
    {
     "name": "stderr",
     "output_type": "stream",
     "text": [
      "C:\\Users\\DeleLinus\\AppData\\Roaming\\Python\\Python312\\site-packages\\pymongo\\pyopenssl_context.py:340: CryptographyDeprecationWarning: Parsed a negative serial number, which is disallowed by RFC 5280. Loading this certificate will cause an exception in the next release of cryptography.\n",
      "  _crypto.X509.from_cryptography(x509.load_der_x509_certificate(cert))\n"
     ]
    },
    {
     "name": "stdout",
     "output_type": "stream",
     "text": [
      "Connection to alt_ecommerce done successfully \n"
     ]
    }
   ],
   "source": [
    "# first connect to the server and database using the connection string\n",
    "db_name = \"alt_ecommerce\"\n",
    "conn_str = \"...\"\n",
    "try:\n",
    "    client = MongoClient(conn_str)\n",
    "    db = client[db_name]\n",
    "    print(f\"Connection to {db_name} done successfully \")\n",
    "except Exception as e:\n",
    "    raise Exception(\n",
    "        \"The following error occurred: \", e) "
   ]
  },
  {
   "cell_type": "code",
   "execution_count": 4,
   "id": "6bc4889c-3e27-43d2-b7df-18686c5dd76f",
   "metadata": {},
   "outputs": [],
   "source": [
    "# Read-in collections\n",
    "customers = db['customers']\n",
    "orders = db[\"orders\"]\n",
    "products = db[\"products\"]\n",
    "order_items = db[\"order_items\"]\n",
    "\n",
    "# drop if already populated\n",
    "customers.drop()\n",
    "orders.drop()\n",
    "products.drop()\n",
    "order_items.drop()\n",
    "# Create collections\n",
    "customers = db['customers']\n",
    "orders = db[\"orders\"]\n",
    "products = db[\"products\"]\n",
    "order_items = db[\"order_items\"]"
   ]
  },
  {
   "cell_type": "code",
   "execution_count": 5,
   "id": "77beeca1-b861-4e2b-82f9-87b577910e97",
   "metadata": {},
   "outputs": [],
   "source": [
    "# Read sample data from JSON\n",
    "with open(\"./sample_data/customers_collection.json\", \"r\") as json_file:\n",
    "    sample_customers_list = json.load(json_file)\n",
    "\n",
    "with open(\"./sample_data/orders_collection.json\", \"r\") as json_file:\n",
    "    sample_orders_list = json.load(json_file)\n",
    "\n",
    "with open(\"./sample_data/products_collection.json\", \"r\") as json_file:\n",
    "    sample_products_list = json.load(json_file)\n",
    "\n",
    "with open(\"./sample_data/order_items_collection.json\", \"r\") as json_file:\n",
    "    sample_order_items_list = json.load(json_file)\n",
    "\n",
    "\n",
    "\n",
    "\n",
    "# Convert the datetime strings back to datetime objects\n",
    "for item in sample_orders_list:\n",
    "    item[\"order_date\"] = datetime.fromisoformat(item[\"order_date\"])\n",
    "    if item.get(\"delivery_date\"):\n",
    "        item[\"delivery_date\"] = datetime.fromisoformat(item[\"delivery_date\"])\n"
   ]
  },
  {
   "cell_type": "code",
   "execution_count": 6,
   "id": "85259bc2-4c82-44c9-a8a0-2ab0e4d28c97",
   "metadata": {},
   "outputs": [],
   "source": [
    "# Insert multiple documents\n",
    "def insert_many_documents(collection,doc_list):\n",
    "    \"\"\"Insert many documents into a collection    \n",
    "    \"\"\"\n",
    "    try:\n",
    "        result = collection.insert_many(doc_list)\n",
    "        return result.inserted_ids\n",
    "    except Exception as e:\n",
    "        print(f\"Error inserting documents: {e}\")\n",
    "        return None\n",
    "\n",
    "\n",
    "# Insert sample documents into each collection using pymongo.\n",
    "customers_insertion_result = insert_many_documents(customers, sample_customers_list)\n",
    "orders_insertion_result = insert_many_documents(orders, sample_orders_list)\n",
    "products_insertion_result = insert_many_documents(products, sample_products_list)\n",
    "order_items_insertion_result = insert_many_documents(order_items, sample_order_items_list)"
   ]
  },
  {
   "cell_type": "markdown",
   "id": "a0d7dfbc-d100-4c1b-9ccf-33dd711dee53",
   "metadata": {},
   "source": [
    "# Task 2: \n",
    "## Analytical Queries\n",
    "- Use MongoDB queries and aggregation pipelines to answer the following questions:"
   ]
  },
  {
   "cell_type": "code",
   "execution_count": 8,
   "id": "1e1e975a-fdfd-4c06-8ed4-8a1e307560b8",
   "metadata": {},
   "outputs": [],
   "source": [
    "pp = pprint.PrettyPrinter(indent=2)\n",
    "#helper function to print\n",
    "def print_results(cursor):\n",
    "    for doc in cursor:\n",
    "        pp.pprint(doc)"
   ]
  },
  {
   "cell_type": "markdown",
   "id": "3fdb08a2-f564-4415-9891-ba7970cf7682",
   "metadata": {},
   "source": [
    "#### 1. Which product categories generate the highest revenue?\n",
    "\n",
    "- Use \\$group to calculate revenue by category.\r",
    "- \n",
    "Sort the results in descending order."
   ]
  },
  {
   "cell_type": "code",
   "execution_count": 10,
   "id": "09243cc4-dbbd-42d8-a99e-4fcb07d79fa4",
   "metadata": {},
   "outputs": [
    {
     "name": "stdout",
     "output_type": "stream",
     "text": [
      "{'_id': 'Appliances', 'total_revenue': 25272}\n",
      "{'_id': 'Electronics', 'total_revenue': 24993}\n",
      "{'_id': 'Wearables', 'total_revenue': 15225}\n",
      "{'_id': 'Storage', 'total_revenue': 13110}\n",
      "{'_id': 'Accessories', 'total_revenue': 11762}\n",
      "{'_id': 'Audio', 'total_revenue': 8610}\n",
      "{'_id': 'Lighting', 'total_revenue': 8173}\n",
      "{'_id': 'Networking', 'total_revenue': 2589}\n",
      "{'_id': 'Furniture', 'total_revenue': 844}\n"
     ]
    }
   ],
   "source": [
    "pipeline = [\n",
    "    {\n",
    "        '$lookup': {\n",
    "            'from': \"products\", \n",
    "            'localField': \"product_id\", \n",
    "            'foreignField': \"product_id\", \n",
    "            'as': \"product_details\"\n",
    "        }\n",
    "    },\n",
    "    {\n",
    "        '$unwind': \"$product_details\"\n",
    "    },\n",
    "    {\n",
    "        '$group': {\n",
    "            '_id': \"$product_details.category\",\n",
    "            'total_revenue': { '$sum': { '$multiply': [\"$quantity\", \"$price\"] } }\n",
    "        }\n",
    "    },\n",
    "    {\n",
    "        '$sort': { 'total_revenue': -1 }\n",
    "    }\n",
    "];\n",
    "\n",
    "result = list(order_items.aggregate(pipeline))\n",
    "\n",
    "print_results(result)\n"
   ]
  },
  {
   "cell_type": "markdown",
   "id": "becef1dc-5200-4169-9941-69c059ebf02c",
   "metadata": {},
   "source": [
    "#### 2. What is the average delivery time for orders?\n",
    "- Calculate the difference between order_date and delivery_date.\n",
    "- Use `$group` to calculate the average delivery time."
   ]
  },
  {
   "cell_type": "code",
   "execution_count": 13,
   "id": "4aed016e-18a4-4545-b5c0-2c2133c8f9da",
   "metadata": {},
   "outputs": [
    {
     "name": "stdout",
     "output_type": "stream",
     "text": [
      "{'_id': None, 'average_delivery_time_in_days': 3.8774509803921573}\n"
     ]
    }
   ],
   "source": [
    "pipeline = [\n",
    "    {\n",
    "        '$match': {\n",
    "            'status': 'Delivered'  # Ensure only delivered orders are considered\n",
    "        }\n",
    "    },\n",
    "    {\n",
    "        '$project': {\n",
    "            '_id': 0,\n",
    "            'order_id': 1,\n",
    "            'delivery_time_in_days': {\n",
    "                '$divide': [\n",
    "                    { '$subtract': [\"$delivery_date\", \"$order_date\"] }, \n",
    "                    1000 * 60 * 60 * 24  #Convert milliseconds to days\n",
    "                ]\n",
    "            }\n",
    "        }\n",
    "    },\n",
    "    {\n",
    "        '$group': {\n",
    "            '_id': None,\n",
    "            'average_delivery_time_in_days': { '$avg': \"$delivery_time_in_days\" }\n",
    "        }\n",
    "    }\n",
    "];\n",
    "\n",
    "result = list(orders.aggregate(pipeline))\n",
    "print_results(result)"
   ]
  },
  {
   "cell_type": "markdown",
   "id": "c62d4085-155e-4ab7-be60-1cc6dbc314b6",
   "metadata": {},
   "source": [
    "#### 3. Which states have the highest number of customers?\n",
    "- Use `$group` to count customers by state.\n",
    "- Sort the results in descending order."
   ]
  },
  {
   "cell_type": "code",
   "execution_count": 15,
   "id": "98924ce0-7360-4346-849f-d2433836c81c",
   "metadata": {},
   "outputs": [
    {
     "name": "stdout",
     "output_type": "stream",
     "text": [
      "{'_id': 'Arizona', 'customer_count': 4}\n",
      "{'_id': 'Colorado', 'customer_count': 2}\n",
      "{'_id': 'Tennessee', 'customer_count': 2}\n",
      "{'_id': 'New York', 'customer_count': 2}\n",
      "{'_id': 'Connecticut', 'customer_count': 1}\n",
      "{'_id': 'Michigan', 'customer_count': 1}\n",
      "{'_id': 'Vermont', 'customer_count': 1}\n",
      "{'_id': 'Georgia', 'customer_count': 1}\n",
      "{'_id': 'South Dakota', 'customer_count': 1}\n",
      "{'_id': 'New Mexico', 'customer_count': 1}\n",
      "{'_id': 'West Virginia', 'customer_count': 1}\n",
      "{'_id': 'Alaska', 'customer_count': 1}\n",
      "{'_id': 'North Dakota', 'customer_count': 1}\n",
      "{'_id': 'Iowa', 'customer_count': 1}\n",
      "{'_id': 'Kansas', 'customer_count': 1}\n",
      "{'_id': 'Pennsylvania', 'customer_count': 1}\n",
      "{'_id': 'Wyoming', 'customer_count': 1}\n",
      "{'_id': 'Mississippi', 'customer_count': 1}\n"
     ]
    }
   ],
   "source": [
    "pipeline = [\n",
    "    {\n",
    "        '$group': {\n",
    "            '_id': \"$address.state\",  # Group by state\n",
    "            'customer_count': { '$sum': 1 }  # Count customers in each state\n",
    "        }\n",
    "    },\n",
    "    {\n",
    "        '$sort': { 'customer_count': -1 }  # Sort in descending order\n",
    "    }\n",
    "];\n",
    "\n",
    "result = list(customers.aggregate(pipeline))\n",
    "print_results(result)"
   ]
  },
  {
   "cell_type": "markdown",
   "id": "8fce377a-2e64-4454-9cff-e822a08092b4",
   "metadata": {},
   "source": [
    "#### 4. What are the top 3 most expensive products sold in each order?\n",
    "- Use `$lookup` and `$sort` to find the top products in each order."
   ]
  },
  {
   "cell_type": "code",
   "execution_count": 17,
   "id": "13257fa1-f4e1-43be-aca7-af01ec78dd0c",
   "metadata": {},
   "outputs": [
    {
     "name": "stdout",
     "output_type": "stream",
     "text": [
      "{ '_id': 5014,\n",
      "  'top_products': [ { 'price': 907,\n",
      "                      'product_id': 105,\n",
      "                      'product_name': 'Smartwatch'}]}\n",
      "{ '_id': 5002,\n",
      "  'top_products': [ { 'price': 1038,\n",
      "                      'product_id': 119,\n",
      "                      'product_name': 'Air Fryer'},\n",
      "                    {'price': 211, 'product_id': 108, 'product_name': 'Mouse'}]}\n",
      "{ '_id': 5016,\n",
      "  'top_products': [ { 'price': 984,\n",
      "                      'product_id': 107,\n",
      "                      'product_name': 'Keyboard'},\n",
      "                    { 'price': 636,\n",
      "                      'product_id': 120,\n",
      "                      'product_name': 'Electric Kettle'},\n",
      "                    { 'price': 574,\n",
      "                      'product_id': 115,\n",
      "                      'product_name': 'Speakers'}]}\n",
      "{ '_id': 5022,\n",
      "  'top_products': [ { 'price': 743,\n",
      "                      'product_id': 110,\n",
      "                      'product_name': 'Desk Lamp'},\n",
      "                    { 'price': 586,\n",
      "                      'product_id': 106,\n",
      "                      'product_name': 'Monitor'}]}\n",
      "{ '_id': 5029,\n",
      "  'top_products': [ { 'price': 782,\n",
      "                      'product_id': 112,\n",
      "                      'product_name': 'External Hard Drive'},\n",
      "                    { 'price': 636,\n",
      "                      'product_id': 120,\n",
      "                      'product_name': 'Electric Kettle'},\n",
      "                    { 'price': 586,\n",
      "                      'product_id': 106,\n",
      "                      'product_name': 'Monitor'}]}\n",
      "{ '_id': 5007,\n",
      "  'top_products': [ { 'price': 1038,\n",
      "                      'product_id': 119,\n",
      "                      'product_name': 'Air Fryer'},\n",
      "                    { 'price': 927,\n",
      "                      'product_id': 104,\n",
      "                      'product_name': 'Headphones'},\n",
      "                    {'price': 211, 'product_id': 108, 'product_name': 'Mouse'}]}\n",
      "{ '_id': 5023,\n",
      "  'top_products': [ { 'price': 907,\n",
      "                      'product_id': 105,\n",
      "                      'product_name': 'Smartwatch'},\n",
      "                    { 'price': 743,\n",
      "                      'product_id': 110,\n",
      "                      'product_name': 'Desk Lamp'},\n",
      "                    { 'price': 743,\n",
      "                      'product_id': 110,\n",
      "                      'product_name': 'Desk Lamp'}]}\n",
      "{ '_id': 5017,\n",
      "  'top_products': [ { 'price': 1038,\n",
      "                      'product_id': 119,\n",
      "                      'product_name': 'Air Fryer'},\n",
      "                    { 'price': 574,\n",
      "                      'product_id': 115,\n",
      "                      'product_name': 'Speakers'}]}\n",
      "{ '_id': 5027,\n",
      "  'top_products': [ {'price': 863, 'product_id': 111, 'product_name': 'Router'},\n",
      "                    { 'price': 574,\n",
      "                      'product_id': 115,\n",
      "                      'product_name': 'Speakers'},\n",
      "                    {'price': 211, 'product_id': 108, 'product_name': 'Mouse'}]}\n",
      "{ '_id': 5028,\n",
      "  'top_products': [ { 'price': 644,\n",
      "                      'product_id': 113,\n",
      "                      'product_name': 'USB Flash Drive'},\n",
      "                    { 'price': 644,\n",
      "                      'product_id': 113,\n",
      "                      'product_name': 'USB Flash Drive'},\n",
      "                    { 'price': 635,\n",
      "                      'product_id': 121,\n",
      "                      'product_name': 'Projector'}]}\n",
      "{ '_id': 5015,\n",
      "  'top_products': [ { 'price': 195,\n",
      "                      'product_id': 118,\n",
      "                      'product_name': 'Blender'}]}\n",
      "{ '_id': 5020,\n",
      "  'top_products': [ {'price': 863, 'product_id': 111, 'product_name': 'Router'},\n",
      "                    { 'price': 586,\n",
      "                      'product_id': 106,\n",
      "                      'product_name': 'Monitor'},\n",
      "                    { 'price': 574,\n",
      "                      'product_id': 115,\n",
      "                      'product_name': 'Speakers'}]}\n",
      "{ '_id': 5024,\n",
      "  'top_products': [ { 'price': 907,\n",
      "                      'product_id': 105,\n",
      "                      'product_name': 'Smartwatch'},\n",
      "                    { 'price': 907,\n",
      "                      'product_id': 105,\n",
      "                      'product_name': 'Smartwatch'}]}\n",
      "{ '_id': 5003,\n",
      "  'top_products': [ {'price': 279, 'product_id': 114, 'product_name': 'Camera'},\n",
      "                    { 'price': 279,\n",
      "                      'product_id': 114,\n",
      "                      'product_name': 'Camera'}]}\n",
      "{ '_id': 5019,\n",
      "  'top_products': [{'price': 343, 'product_id': 103, 'product_name': 'Tablet'}]}\n",
      "{ '_id': 5005,\n",
      "  'top_products': [ { 'price': 1038,\n",
      "                      'product_id': 119,\n",
      "                      'product_name': 'Air Fryer'},\n",
      "                    { 'price': 644,\n",
      "                      'product_id': 113,\n",
      "                      'product_name': 'USB Flash Drive'},\n",
      "                    { 'price': 202,\n",
      "                      'product_id': 116,\n",
      "                      'product_name': 'Fitness Tracker'}]}\n",
      "{ '_id': 5025,\n",
      "  'top_products': [ { 'price': 927,\n",
      "                      'product_id': 104,\n",
      "                      'product_name': 'Headphones'},\n",
      "                    { 'price': 743,\n",
      "                      'product_id': 110,\n",
      "                      'product_name': 'Desk Lamp'},\n",
      "                    { 'price': 202,\n",
      "                      'product_id': 116,\n",
      "                      'product_name': 'Fitness Tracker'}]}\n",
      "{ '_id': 5021,\n",
      "  'top_products': [ { 'price': 1038,\n",
      "                      'product_id': 119,\n",
      "                      'product_name': 'Air Fryer'},\n",
      "                    { 'price': 782,\n",
      "                      'product_id': 112,\n",
      "                      'product_name': 'External Hard Drive'},\n",
      "                    { 'price': 574,\n",
      "                      'product_id': 115,\n",
      "                      'product_name': 'Speakers'}]}\n",
      "{ '_id': 5009,\n",
      "  'top_products': [ { 'price': 743,\n",
      "                      'product_id': 110,\n",
      "                      'product_name': 'Desk Lamp'},\n",
      "                    {'price': 279, 'product_id': 114, 'product_name': 'Camera'},\n",
      "                    { 'price': 195,\n",
      "                      'product_id': 118,\n",
      "                      'product_name': 'Blender'}]}\n",
      "{ '_id': 5026,\n",
      "  'top_products': [ { 'price': 586,\n",
      "                      'product_id': 106,\n",
      "                      'product_name': 'Monitor'}]}\n",
      "{ '_id': 5001,\n",
      "  'top_products': [ {'price': 343, 'product_id': 103, 'product_name': 'Tablet'},\n",
      "                    {'price': 279, 'product_id': 114, 'product_name': 'Camera'},\n",
      "                    {'price': 211, 'product_id': 108, 'product_name': 'Mouse'}]}\n",
      "{ '_id': 5004,\n",
      "  'top_products': [ {'price': 863, 'product_id': 111, 'product_name': 'Router'},\n",
      "                    { 'price': 586,\n",
      "                      'product_id': 106,\n",
      "                      'product_name': 'Monitor'},\n",
      "                    { 'price': 574,\n",
      "                      'product_id': 115,\n",
      "                      'product_name': 'Speakers'}]}\n",
      "{ '_id': 5006,\n",
      "  'top_products': [ { 'price': 927,\n",
      "                      'product_id': 104,\n",
      "                      'product_name': 'Headphones'},\n",
      "                    { 'price': 907,\n",
      "                      'product_id': 105,\n",
      "                      'product_name': 'Smartwatch'},\n",
      "                    { 'price': 782,\n",
      "                      'product_id': 112,\n",
      "                      'product_name': 'External Hard Drive'}]}\n",
      "{ '_id': 5010,\n",
      "  'top_products': [ { 'price': 1038,\n",
      "                      'product_id': 119,\n",
      "                      'product_name': 'Air Fryer'},\n",
      "                    { 'price': 984,\n",
      "                      'product_id': 107,\n",
      "                      'product_name': 'Keyboard'}]}\n",
      "{ '_id': 5011,\n",
      "  'top_products': [ { 'price': 1038,\n",
      "                      'product_id': 119,\n",
      "                      'product_name': 'Air Fryer'},\n",
      "                    {'price': 211, 'product_id': 108, 'product_name': 'Mouse'},\n",
      "                    { 'price': 146,\n",
      "                      'product_id': 101,\n",
      "                      'product_name': 'Laptop'}]}\n",
      "{ '_id': 5008,\n",
      "  'top_products': [ { 'price': 782,\n",
      "                      'product_id': 112,\n",
      "                      'product_name': 'External Hard Drive'},\n",
      "                    {'price': 758, 'product_id': 102, 'product_name': 'Phone'},\n",
      "                    { 'price': 343,\n",
      "                      'product_id': 103,\n",
      "                      'product_name': 'Tablet'}]}\n",
      "{ '_id': 5018,\n",
      "  'top_products': [ { 'price': 927,\n",
      "                      'product_id': 104,\n",
      "                      'product_name': 'Headphones'},\n",
      "                    { 'price': 636,\n",
      "                      'product_id': 120,\n",
      "                      'product_name': 'Electric Kettle'},\n",
      "                    { 'price': 635,\n",
      "                      'product_id': 121,\n",
      "                      'product_name': 'Projector'}]}\n",
      "{ '_id': 5012,\n",
      "  'top_products': [ { 'price': 1038,\n",
      "                      'product_id': 119,\n",
      "                      'product_name': 'Air Fryer'},\n",
      "                    { 'price': 574,\n",
      "                      'product_id': 115,\n",
      "                      'product_name': 'Speakers'},\n",
      "                    { 'price': 211,\n",
      "                      'product_id': 109,\n",
      "                      'product_name': 'Gaming Chair'}]}\n",
      "{ '_id': 5013,\n",
      "  'top_products': [ { 'price': 635,\n",
      "                      'product_id': 121,\n",
      "                      'product_name': 'Projector'},\n",
      "                    {'price': 343, 'product_id': 103, 'product_name': 'Tablet'},\n",
      "                    { 'price': 146,\n",
      "                      'product_id': 101,\n",
      "                      'product_name': 'Laptop'}]}\n"
     ]
    }
   ],
   "source": [
    "# Use $group to calculate revenue by category.\n",
    "\n",
    "pipeline = [\n",
    "    {\n",
    "        '$lookup': {\n",
    "            'from': 'products',  # Join with the products collection\n",
    "            'localField': 'product_id', \n",
    "            'foreignField': 'product_id', \n",
    "            'as': 'product_details'\n",
    "        }\n",
    "    },\n",
    "    {\n",
    "        '$unwind': '$product_details'  # Unpack the product details\n",
    "    },\n",
    "    {\n",
    "        '$project': {\n",
    "            'order_id': 1,\n",
    "            'product_id': 1,\n",
    "            'product_name': '$product_details.product_name',\n",
    "            'category': '$product_details.category',\n",
    "            'price': '$price'\n",
    "        }\n",
    "    },\n",
    "    {\n",
    "        '$sort': {\n",
    "            'order_id': 1,  # Sort by order first\n",
    "            'price': -1     # Then sort by price in descending order\n",
    "        }\n",
    "    },\n",
    "    {\n",
    "        '$group': {\n",
    "            '_id': '$order_id',  # Group by order_id\n",
    "            'top_products': { '$push': {\n",
    "                'product_id': '$product_id',\n",
    "                'product_name': '$product_name',\n",
    "                'price': '$price'\n",
    "            }},\n",
    "        }\n",
    "    },\n",
    "    {\n",
    "        '$project': {\n",
    "            'top_products': { '$slice': ['$top_products', 3] }  # Keep only the top 3\n",
    "        }\n",
    "    }\n",
    "];\n",
    "\n",
    "result = list(order_items.aggregate(pipeline))\n",
    "\n",
    "print_results(result)"
   ]
  },
  {
   "cell_type": "markdown",
   "id": "da9f836d-82ce-48a0-8a53-fec377e265a4",
   "metadata": {},
   "source": [
    "# Task 3: \n",
    "### Schema Design and Optimization\n",
    "- Choose between embedded and referenced schema designs for each collection and explain why.\n",
    "- Create indexes on frequently queried fields like customer_id and product_id."
   ]
  },
  {
   "cell_type": "markdown",
   "id": "bd1814f5-0161-4222-adc6-12e901210d02",
   "metadata": {},
   "source": [
    "#### Schema Design Choices\n",
    "1. **Customers Collection**\\\n",
    "**Design:** Embedded\\\n",
    "**Reason:** A customer's address (e.g., street, city, state) is closely related to the customer and unlikely to change frequently or be queried independently.\n",
    "\n",
    "2. **Products  Collection**\\\n",
    "**Design:** Referenced\\\n",
    "**Reason:** Products are often reused across multiple orders and have stable data. Keeping them in a separate collection ensures consistency and reduces redundancy.\n",
    "\n",
    "3. **Orders Collection**\\\n",
    "**Design:** Referenced\\\n",
    "**Reason:** Orders involve a relationship with both customers and order items. Using references for `customer_id` allows efficient queries on customer orders without duplicating data.\n",
    "\n",
    "4. **Order Items Collection**\\\n",
    "**Design:** Referenced\\\n",
    "**Reason:** Order items represent a many-to-many relationship between orders and products. A referenced structure avoids duplicating product details across order items."
   ]
  },
  {
   "cell_type": "code",
   "execution_count": 20,
   "id": "a3abe4e9-bec1-4467-a03c-6316bf689877",
   "metadata": {},
   "outputs": [
    {
     "data": {
      "text/plain": [
       "'product_id_1'"
      ]
     },
     "execution_count": 20,
     "metadata": {},
     "output_type": "execute_result"
    }
   ],
   "source": [
    "# Index on customer_id speeds up queries like fetching customer details or joining with orders.\n",
    "customers.create_index([('customer_id',1)])\n",
    "# Index on product_id optimizes lookups when joining with order items or querying product details.\n",
    "products.create_index([('product_id',1)])\n",
    "orders.create_index([('customer_id',1)])\n",
    "orders.create_index([('order_id',1)])\n",
    "order_items.create_index([('order_id',1)])\n",
    "order_items.create_index([('product_id',1)])"
   ]
  },
  {
   "cell_type": "markdown",
   "id": "11e8a8ff-0e18-4f41-a7b9-08f4b8e1ce6e",
   "metadata": {},
   "source": [
    "# Task 4: \n",
    "## Advanced Features"
   ]
  },
  {
   "cell_type": "markdown",
   "id": "88df02a6-53f0-489a-9075-ecedf400329d",
   "metadata": {},
   "source": [
    "#### 1. Implement Transactions:\n",
    "- Simulate an order creation process that updates the orders and inventory collections atomically."
   ]
  },
  {
   "cell_type": "code",
   "execution_count": 23,
   "id": "d839a732-89a4-4b78-b327-da0f7f458edb",
   "metadata": {},
   "outputs": [],
   "source": [
    "# Start a transaction\n",
    "def create_order(customer_id, items):\n",
    "    \"\"\"\n",
    "    Simulates an order creation process that updates the `orders`, `order_items`, \n",
    "    and `products` collections atomically using a MongoDB transaction.\n",
    "\n",
    "    Parameters\n",
    "    ----------\n",
    "    customer_id : int\n",
    "        The ID of the customer placing the order.\n",
    "    items : dict\n",
    "        A dictionary where each key is a `product_id` (int) and the corresponding \n",
    "        value is the `quantity` (int) of that product being ordered.\n",
    "    \"\"\"\n",
    "    session = client.start_session()\n",
    "    try:\n",
    "        session.start_transaction()\n",
    "\n",
    "        # Step 1: Add the order to the orders collection\n",
    "        max_order = orders.find_one(sort=[(\"order_id\", -1)])\n",
    "        max_order_id = max_order[\"order_id\"] if max_order else 5000  # Default initial order ID\n",
    "        order_id = max_order_id + 1\n",
    "\n",
    "        orders.insert_one({\n",
    "            \"order_id\": order_id,\n",
    "            \"customer_id\": customer_id,\n",
    "            \"order_date\": datetime.now(),\n",
    "            \"status\": \"Pending\"\n",
    "        }, session=session)\n",
    "\n",
    "        # Step 2: Add items to the order_items collection and update stock\n",
    "        for product_id, quantity in items.items():\n",
    "            # Fetch product details\n",
    "            product = products.find_one({\"product_id\": product_id}, {\"price\": 1, \"stock_quantity\": 1, \"_id\": 0})\n",
    "            if not product:\n",
    "                raise ValueError(f\"Product with ID {product_id} does not exist.\")\n",
    "            if product[\"stock_quantity\"] < quantity:\n",
    "                raise ValueError(f\"Insufficient stock for product ID {product_id}. Available: {product['stock_quantity']}, Requested: {quantity}.\")\n",
    "\n",
    "            # Generate order_item_id\n",
    "            max_order_item = order_items.find_one(sort=[(\"order_item_id\", -1)])\n",
    "            max_order_item_id = max_order_item[\"order_item_id\"] if max_order_item else 9000  # Default initial order item ID\n",
    "            order_item_id = max_order_item_id + 1\n",
    "\n",
    "            # Insert order item\n",
    "            order_items.insert_one({\n",
    "                \"order_item_id\": order_item_id,\n",
    "                \"order_id\": order_id,\n",
    "                \"product_id\": product_id,\n",
    "                \"quantity\": quantity,\n",
    "                \"price\": product[\"price\"]\n",
    "            }, session=session)\n",
    "\n",
    "            # Update stock quantity\n",
    "            products.update_one({\"product_id\": product_id}, {\"$inc\": {\"stock_quantity\": -quantity}}, session=session)\n",
    "\n",
    "        # Commit the transaction\n",
    "        session.commit_transaction()\n",
    "        print(f\"Order {order_id} created successfully.\")\n",
    "\n",
    "    except (OperationFailure, ValueError) as e:\n",
    "        # Abort the transaction in case of failure\n",
    "        session.abort_transaction()\n",
    "        print(f\"Transaction failed: {e}\")\n",
    "    finally:\n",
    "        session.end_session()"
   ]
  },
  {
   "cell_type": "code",
   "execution_count": 24,
   "id": "422f49f3-6675-4cbc-ad89-7b11a79b4fc1",
   "metadata": {},
   "outputs": [
    {
     "name": "stdout",
     "output_type": "stream",
     "text": [
      "Order 5030 created successfully.\n"
     ]
    },
    {
     "data": {
      "text/plain": [
       "{'_id': ObjectId('676617aec06ac745131eacde'),\n",
       " 'order_id': 5030,\n",
       " 'customer_id': 4,\n",
       " 'order_date': datetime.datetime(2024, 12, 21, 2, 19, 42, 640000),\n",
       " 'status': 'Pending'}"
      ]
     },
     "execution_count": 24,
     "metadata": {},
     "output_type": "execute_result"
    }
   ],
   "source": [
    "# make an order\n",
    "create_order(customer_id=4, items = {103:2, 104:3})\n",
    "\n",
    "# fetch the last order\n",
    "orders.find_one(sort=[(\"order_id\", -1)])"
   ]
  },
  {
   "cell_type": "markdown",
   "id": "397e2627-3655-49d7-92d5-e1fb2a1f8670",
   "metadata": {},
   "source": [
    "#### 2. Use Change Streams:\n",
    "- Monitor real-time changes in the orders collection."
   ]
  },
  {
   "cell_type": "code",
   "execution_count": 26,
   "id": "c2d99d11-dd2f-45e1-8951-5773496637d0",
   "metadata": {},
   "outputs": [],
   "source": [
    "import threading\n",
    "\n",
    "# function to monitor changes\n",
    "def monitor_orders():\n",
    "    with orders.watch() as stream:\n",
    "        for change in stream:\n",
    "            print(f\"Change detected: {change}\")\n",
    "\n",
    "# start monitoring in a separate thread\n",
    "monitor_thread = threading.Thread(target=monitor_orders, daemon=True)\n",
    "monitor_thread.start()"
   ]
  },
  {
   "cell_type": "code",
   "execution_count": 27,
   "id": "895991bc-1f9c-43c8-80d6-a04f891071f7",
   "metadata": {},
   "outputs": [
    {
     "name": "stdout",
     "output_type": "stream",
     "text": [
      "Change detected: {'txnNumber': 1, 'lsid': {'id': Binary(b'x\\xabk\\x08\\xcf(J\\xbd\\x8b\\xa0\\xa1\\x17[o\\xde\\x84', 4), 'uid': b'u\\xda\\xa8\\xb7\\xaf/.\\x90T>s\\xae\\xa8X\\xf6q\\xd0\\xa5\\xbf\\xf7o\\xfe\\xf1}eT\\xb0\\x92v\\x07\\x12\\xc1'}, '_id': {'_data': '82676617B2000000032B042C0100296E5A100405671B08A698478492A13C4AA15E4D52463C6F7065726174696F6E54797065003C696E736572740046646F63756D656E744B65790046645F69640064676617B1C06AC745131EACE1000004'}, 'operationType': 'insert', 'clusterTime': Timestamp(1734743986, 3), 'wallTime': datetime.datetime(2024, 12, 21, 1, 19, 46, 225000), 'fullDocument': {'_id': ObjectId('676617b1c06ac745131eace1'), 'order_id': 5031, 'customer_id': 2, 'order_date': datetime.datetime(2024, 12, 21, 2, 19, 45, 236000), 'status': 'Pending'}, 'ns': {'db': 'alt_ecommerce', 'coll': 'orders'}, 'documentKey': {'_id': ObjectId('676617b1c06ac745131eace1')}}\n",
      "Order 5031 created successfully.\n"
     ]
    }
   ],
   "source": [
    "# Add a new order to trigger a change\n",
    "create_order(customer_id=2, items = {110:3})"
   ]
  },
  {
   "cell_type": "markdown",
   "id": "0a397116-68a1-45e7-98a2-dca48bb67e53",
   "metadata": {},
   "source": [
    "#### 3. Apply Schema Validation:\n",
    "- Ensure all documents in the products collection include a valid price."
   ]
  },
  {
   "cell_type": "code",
   "execution_count": 29,
   "id": "55abf033-83f3-43e5-817f-9e40fc1654dc",
   "metadata": {},
   "outputs": [
    {
     "name": "stdout",
     "output_type": "stream",
     "text": [
      "Schema validation applied to the products collection.\n"
     ]
    }
   ],
   "source": [
    "schema = {\n",
    "    \"$jsonSchema\": {\n",
    "        \"bsonType\": \"object\",\n",
    "        \"required\": [\"product_id\", \"product_name\", \"category\", \"price\", \"stock_quantity\"],\n",
    "        \"properties\": {\n",
    "            \"product_id\": {\"bsonType\": \"int\"},\n",
    "            \"product_name\": {\"bsonType\": \"string\"},\n",
    "            \"category\": {\"bsonType\": \"string\"},\n",
    "            \"price\": {\n",
    "                \"bsonType\": \"double\",\n",
    "                \"minimum\": 0,\n",
    "                \"description\": \"Price must be a positive number\"\n",
    "                },\n",
    "            \"stock_quantity\": {\n",
    "                \"bsonType\": \"int\",\n",
    "                \"minimum\": 0,\n",
    "                \"description\": \"inventory must be a positive number\"\n",
    "                }\n",
    "        }\n",
    "    }\n",
    "}\n",
    "\n",
    "# Apply the schema validation\n",
    "db.command({\n",
    "    \"collMod\": \"products\",\n",
    "    \"validator\": schema,\n",
    "    \"validationLevel\": \"strict\"\n",
    "})\n",
    "print(\"Schema validation applied to the products collection.\")\n"
   ]
  },
  {
   "cell_type": "code",
   "execution_count": null,
   "id": "04f779f5-e8e1-4c2b-8307-150b9ff583d6",
   "metadata": {},
   "outputs": [],
   "source": []
  }
 ],
 "metadata": {
  "kernelspec": {
   "display_name": "Python 3 (ipykernel)",
   "language": "python",
   "name": "python3"
  },
  "language_info": {
   "codemirror_mode": {
    "name": "ipython",
    "version": 3
   },
   "file_extension": ".py",
   "mimetype": "text/x-python",
   "name": "python",
   "nbconvert_exporter": "python",
   "pygments_lexer": "ipython3",
   "version": "3.12.3"
  }
 },
 "nbformat": 4,
 "nbformat_minor": 5
}
